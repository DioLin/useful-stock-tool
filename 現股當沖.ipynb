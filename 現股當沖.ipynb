{
 "cells": [
  {
   "cell_type": "code",
   "execution_count": 2,
   "metadata": {},
   "outputs": [
    {
     "name": "stdout",
     "output_type": "stream",
     "text": [
      "手續費+證所稅總和= 50.51475\n",
      "現股當沖獲利股價(先賣後買)= 21.399485249999998\n",
      "現股當沖獲利股價(先買後賣)= 21.50051475\n"
     ]
    }
   ],
   "source": [
    "handling_fee=0.001425\n",
    "taxation=0.0015\n",
    "discount=0.3\n",
    "stock=21.45\n",
    "total_fee=stock*handling_fee*discount*2+stock*taxation\n",
    "print('手續費+證所稅總和=',total_fee*1000)\n",
    "print('現股當沖獲利股價(先賣後買)=',stock-total_fee)\n",
    "print('現股當沖獲利股價(先買後賣)=',stock+total_fee)"
   ]
  },
  {
   "cell_type": "code",
   "execution_count": 7,
   "metadata": {},
   "outputs": [
    {
     "name": "stdout",
     "output_type": "stream",
     "text": [
      "台中銀(2812)即時股價= 12.25\n",
      "<class 'str'>\n",
      "手續費+證所稅總和= 28.84875\n",
      "現股當沖獲利股價(先賣後買)< 12.22115125\n",
      "現股當沖獲利股價(先買後賣)> 12.27884875\n"
     ]
    }
   ],
   "source": [
    "import twstock\n",
    "stock = twstock.realtime.get('2812') \n",
    "stock_rt_price=stock['realtime']['latest_trade_price']\n",
    "#print(stock['info'])\n",
    "print(stock['info']['name']+'('+stock['info']['code']+')'+'即時股價=',stock_rt_price)\n",
    "print(type(stock_rt_price))\n",
    "#取得報價為STRING需作轉型\n",
    "stock_rt_price=float(stock_rt_price)\n",
    "#stock_rt_price=226\n",
    "total_fee=stock_rt_price*handling_fee*discount*2+stock_rt_price*taxation\n",
    "print('手續費+證所稅總和=',total_fee*1000)\n",
    "print('現股當沖獲利股價(先賣後買)<',stock_rt_price-total_fee)\n",
    "print('現股當沖獲利股價(先買後賣)>',stock_rt_price+total_fee)"
   ]
  },
  {
   "cell_type": "code",
   "execution_count": null,
   "metadata": {},
   "outputs": [],
   "source": []
  },
  {
   "cell_type": "code",
   "execution_count": null,
   "metadata": {},
   "outputs": [],
   "source": []
  }
 ],
 "metadata": {
  "kernelspec": {
   "display_name": "Python [conda env:py3]",
   "language": "python",
   "name": "conda-env-py3-py"
  },
  "language_info": {
   "codemirror_mode": {
    "name": "ipython",
    "version": 3
   },
   "file_extension": ".py",
   "mimetype": "text/x-python",
   "name": "python",
   "nbconvert_exporter": "python",
   "pygments_lexer": "ipython3",
   "version": "3.7.0"
  }
 },
 "nbformat": 4,
 "nbformat_minor": 2
}
