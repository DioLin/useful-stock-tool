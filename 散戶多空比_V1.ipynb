{
 "cells": [
  {
   "cell_type": "code",
   "execution_count": 99,
   "metadata": {},
   "outputs": [
    {
     "name": "stdout",
     "output_type": "stream",
     "text": [
      "2020/04/27\n"
     ]
    }
   ],
   "source": [
    "import requests\n",
    "import pandas as pd\n",
    "from io import StringIO\n",
    "import time\n",
    "import re\n",
    "import datetime\n",
    "\n",
    "#取得當天日期並轉換\n",
    "today=datetime.date.today()\n",
    "\n",
    "#將- 取代為/ 讓查詢日期格式正確\n",
    "queryDate=str(today).replace(\"-\",\"/\")\n",
    "#print(queryDate)\n",
    "\n",
    "#測試用日期\n",
    "queryDate=\"2020/04/27\"\n",
    "#today -= datetime.timedelta(days=1)\n",
    "#print(today)\n",
    "print(queryDate)\n"
   ]
  },
  {
   "cell_type": "code",
   "execution_count": 100,
   "metadata": {},
   "outputs": [],
   "source": [
    "def postfuncNew(url,Postpayload):\n",
    "    session = requests.Session()\n",
    "    paramsPost = Postpayload\n",
    "    headers = {\"Origin\":\"https://www.taifex.com.tw\",\"Accept\":\"text/html,application/xhtml+xml,application/xml;q=0.9,image/webp,*/*;q=0.8\",\"Upgrade-Insecure-Requests\":\"1\",\"User-Agent\":\"Mozilla/5.0 (Macintosh; Intel Mac OS X 10.12; rv:72.0) Gecko/20100101 Firefox/72.0\",\"Connection\":\"close\",\"Referer\":\"https://www.taifex.com.tw/cht/3/futContractsDate\",\"Accept-Language\":\"zh-TW,zh;q=0.8,en-US;q=0.5,en;q=0.3\",\"Accept-Encoding\":\"gzip, deflate\",\"Content-Type\":\"application/x-www-form-urlencoded\"}\n",
    "    cookies = {\"BIGipServerPOOL_WWW_TCP_80\":\"471208108.20480.0000\",\"c\":\"8c936b59dc569b26b816019ca2cb19f01709a701350\",\"BIGipServerPOOL_iRule_WWW_Group\":\"404099244.20480.0000\",\"ROUTEID\":\".tomcat3\",\"_gat\":\"1\",\"_ga\":\"GA1.3.2004033134.1582683667\",\"JSESSIONID\":\"B80A16FA099F41D49840B4C1B5937B5C.tomcat3\",\"BIGipServerPOOL_iRule_WWW_ts50search\":\"420876460.20480.0000\",\"_gid\":\"GA1.3.285759117.1583137315\"}\n",
    "    response = session.post(url, data=paramsPost, headers=headers, cookies=cookies)\n",
    "    #print(\"Status code:   %i\" % response.status_code)\n",
    "    #print(\"Response body: %s\" % response.content)\n",
    "    response.encoding = 'UTF-8'\n",
    "    dfs = pd.read_html(StringIO(response.text), encoding='UTF-8')\n",
    "    return dfs"
   ]
  },
  {
   "cell_type": "code",
   "execution_count": 101,
   "metadata": {},
   "outputs": [],
   "source": [
    "def getfunc(url,Getpayload):\n",
    "    session = requests.Session()\n",
    "    paramsGet = Getpayload\n",
    "    headers = {\"Accept\":\"application/json, text/javascript, */*; q=0.01\",\"X-Requested-With\":\"XMLHttpRequest\",\"User-Agent\":\"Mozilla/5.0 (Macintosh; Intel Mac OS X 10.15; rv:75.0) Gecko/20100101 Firefox/75.0\",\"Connection\":\"close\",\"Referer\":\"https://www.taifex.com.tw/cht/3/futDailyMarketReport\",\"Accept-Language\":\"zh-TW,zh;q=0.8,en-US;q=0.5,en;q=0.3\",\"Accept-Encoding\":\"gzip, deflate, br\"}\n",
    "    cookies = {\"BIGipServerPOOL_WWW_TCP_80\":\"471208108.20480.0000\",\"BIGipServerPOOL_iRule_WWW_Group\":\"437653676.20480.0000\",\"ROUTEID\":\".tomcat2\",\"_ga\":\"GA1.3.208110716.1584094066\",\"JSESSIONID\":\"5DAB171C35C3BEF93CCE237A03A1FDF8.tomcat2\",\"BIGipServerPOOL_iRule_WWW_ts50search\":\"420876460.20480.0000\"}\n",
    "    response = session.get(url, params=paramsGet, headers=headers, cookies=cookies)\n",
    "    response.encoding = 'UTF-8'\n",
    "    #print(\"Status code:   %i\" % response.status_code)\n",
    "    #print(\"Response body: %s\" % response.content)\n",
    "    return response.text"
   ]
  },
  {
   "cell_type": "code",
   "execution_count": 110,
   "metadata": {
    "scrolled": true
   },
   "outputs": [
    {
     "name": "stdout",
     "output_type": "stream",
     "text": [
      "Trading day,continue plz!!\n"
     ]
    },
    {
     "data": {
      "text/plain": [
       "1"
      ]
     },
     "execution_count": 110,
     "metadata": {},
     "output_type": "execute_result"
    }
   ],
   "source": [
    "#查詢為交易日\n",
    "def isTraddingDay(date):\n",
    "    geturl=\"https://www.taifex.com.tw/cht/3/getFutTradingSessionList.do\"\n",
    "    paramsGet = {\"queryDate\":date}\n",
    "    isTradday=getfunc(geturl,paramsGet)\n",
    "    if \"COMMODITY_MARKET_CODE\" in isTradday:\n",
    "        trading=1\n",
    "        print(\"Trading day,continue plz!!\")\n",
    "    else:\n",
    "        trading=0\n",
    "        print(\"No data today!!\")\n",
    "    return trading\n",
    "\n",
    "isTraddingDay(queryDate)"
   ]
  },
  {
   "cell_type": "code",
   "execution_count": 103,
   "metadata": {},
   "outputs": [],
   "source": [
    "#查詢期貨每日交易行情查詢->小台\n",
    "posturl=\"https://www.taifex.com.tw/cht/3/futDailyMarketReport\"\n",
    "PayloadPost = {\"commodity_id\":\"MTX\",\"queryDate\":queryDate,\"dateaddcnt\":\"\",\"commodity_idt\":\"MTX\",\"marketCode\":\"0\",\"commodity_id2\":\"\",\"commodity_id2t2\":\"\",\"MarketCode\":\"0\",\"queryType\":\"2\",\"commodity_id2t\":\"\"}\n",
    "\n",
    "df=postfuncNew(posturl,PayloadPost)[2].drop([0,1,2])\n",
    "#df=dfs[2].drop([0,1,2])\n",
    "dff=df.iloc[:10,1:13]"
   ]
  },
  {
   "cell_type": "code",
   "execution_count": 104,
   "metadata": {},
   "outputs": [],
   "source": [
    "#\t交易資訊 > 三大法人 > 查詢 > 區分各期貨契約 > 依日期\n",
    "#三大法人小台指期多空單\n",
    "posturl1=\"https://www.taifex.com.tw/cht/3/futContractsDate\"\n",
    "PayloadPost1 = {\"queryDate\":queryDate,\"dateaddcnt\":\"\",\"doQuery\":\"1\",\"goDay\":\"\",\"commodityId\":\"MXF\",\"queryType\":\"1\"}\n",
    "\n",
    "df2=postfuncNew(posturl1,PayloadPost1)[2].drop([0,1])\n"
   ]
  },
  {
   "cell_type": "code",
   "execution_count": 105,
   "metadata": {
    "scrolled": true
   },
   "outputs": [
    {
     "name": "stdout",
     "output_type": "stream",
     "text": [
      "小台指期當日未沖銷契約量= 44190\n",
      "未到期留倉量= 43566\n",
      "==================\n",
      "自營多單= 7071\n",
      "投信多單= 64\n",
      "外資多單= 6264\n",
      "==================\n",
      "自營空單= 8093\n",
      "投信空單= 0\n",
      "外資空單= 2767\n",
      "==================\n",
      "散戶多單= 30167\n",
      "散戶空單= 32706\n",
      "2020/04/27散戶多空比=-5.83%\n"
     ]
    }
   ],
   "source": [
    "\"\"\"\n",
    "散戶多單=全市場未平倉量-三大法人多單\n",
    "散戶空單=全市場未平倉量-三大法人空單\n",
    "散戶多空比=(散戶多單-散戶空單)/全市場未平倉*100%\n",
    "\"\"\"\n",
    "\n",
    "totalpointer=3 #刪掉3列所以從第3列開始起算，找到小計所在的列數，決定當天的所有期貨\"到期月份\" 總數\n",
    "\n",
    "while True:\n",
    "    #print(dff[7][totalpointer])\n",
    "    totalpointer=totalpointer+1\n",
    "    if dff[7][totalpointer] ==\"小計:\" : break\n",
    "     \n",
    "print(\"小台指期當日未沖銷契約量=\",int(dff[12][totalpointer]))\n",
    "print(\"未到期留倉量=\",(int(dff[12][totalpointer])-int(dff[12][4])))\n",
    "print(\"==================\")\n",
    "print(\"自營多單=\",int(df2[9][5]))\n",
    "print(\"投信多單=\",int(df2[9][6]))\n",
    "print(\"外資多單=\",int(df2[9][7]))\n",
    "print(\"==================\")\n",
    "print(\"自營空單=\",int(df2[11][5]))\n",
    "print(\"投信空單=\",int(df2[11][6]))\n",
    "print(\"外資空單=\",int(df2[11][7]))\n",
    "print(\"==================\")\n",
    "\n",
    "#print(dff[12][totalpointer])\n",
    "indiviualPlayer_long=int(dff[12][totalpointer])-int(dff[12][4])-(int(df2[9][5])+int(df2[9][6])+int(df2[9][7]))\n",
    "indiviualPlayer_short=int(dff[12][totalpointer])-int(dff[12][4])-(int(df2[11][5])+int(df2[11][6])+int(df2[11][7]))\n",
    "indiviualPlayer_ratio=(100*(indiviualPlayer_long-indiviualPlayer_short)/(int(dff[12][totalpointer])-int(dff[12][4])))\n",
    "print(\"散戶多單=\",indiviualPlayer_long)\n",
    "print(\"散戶空單=\",indiviualPlayer_short)\n",
    "print(queryDate+\"散戶多空比=\"+'%.2f%%' %indiviualPlayer_ratio)\n"
   ]
  },
  {
   "cell_type": "code",
   "execution_count": 106,
   "metadata": {},
   "outputs": [],
   "source": [
    "#首頁 > 交易資訊 > 大額交易人未沖銷部位結構 > 查詢 > 期貨大額交易人未沖銷部位結構表\n",
    "posturl3=\"https://www.taifex.com.tw/cht/3/largeTraderFutQry\"\n",
    "PayloadPost3 = {\"contractId\":\"all\",\"datecount\":\"\",\"queryDate\":queryDate,\"contractId2\":\"all\"}\n",
    "\n",
    "df3=postfuncNew(posturl3,PayloadPost3)[3].drop([0])"
   ]
  },
  {
   "cell_type": "code",
   "execution_count": 107,
   "metadata": {},
   "outputs": [
    {
     "name": "stdout",
     "output_type": "stream",
     "text": [
      "2020/04/27大戶多空比=0.30%\n"
     ]
    }
   ],
   "source": [
    "#大戶指標\n",
    "\"\"\"大戶指標 大戶多空比 ＝（多方十大交易人佔比 － 空方十大交易人佔比）－ 多空分界點\"\"\"\n",
    "#print(df3.columns)\n",
    "biglong=re.split('[()%]',df3[(       '買方', '前十大交易人合計 (特定法人合計)',       '百分比')][2])\n",
    "#biglong=re.split('[()%] ',df3[2][7])\n",
    "bigsell=re.split('[()%]',df3[(       '賣方', '前十大交易人合計 (特定法人合計)',       '百分比')][2])\n",
    "#bigsell=re.split('[()%] ',df3[8][7])\n",
    "major_trader_ratio=(float(biglong[0])-float(bigsell[0]))\n",
    "print(queryDate+\"大戶多空比=\"+'%.2f%%' %major_trader_ratio)"
   ]
  },
  {
   "cell_type": "code",
   "execution_count": 108,
   "metadata": {},
   "outputs": [
    {
     "name": "stdout",
     "output_type": "stream",
     "text": [
      "2020/04/27大台外資多單= 35289\n"
     ]
    }
   ],
   "source": [
    "#查詢外資期貨多單\n",
    "posturl4 = \"https://www.taifex.com.tw/cht/3/futContractsDate\"\n",
    "PayloadPost4 = {\"queryDate\":queryDate,\"dateaddcnt\":\"\",\"doQuery\":\"1\",\"goDay\":\"\",\"commodityId\":\"TXF\",\"queryType\":\"1\"}\n",
    "\n",
    "df4 = postfuncNew(posturl4,PayloadPost4)[3].drop([0])\n",
    "#print(df4.columns)\n",
    "foreign_investment_long = df4[ (             '未平倉餘額',               '多空淨額',   '口數')][5]\n",
    "\n",
    "print(queryDate+\"大台外資多單=\",foreign_investment_long)"
   ]
  },
  {
   "cell_type": "code",
   "execution_count": 109,
   "metadata": {
    "scrolled": false
   },
   "outputs": [
    {
     "name": "stdout",
     "output_type": "stream",
     "text": [
      "2020/04/27小台散戶多單= 30167\n",
      "2020/04/27小台散戶空單= 32706\n",
      "2020/04/27小台散戶多空比=-5.83%\n",
      "2020/04/27大台外資多單= 35289\n",
      "2020/04/27大戶多空比=0.30%\n"
     ]
    }
   ],
   "source": [
    "print(queryDate+\"小台散戶多單=\",indiviualPlayer_long)\n",
    "print(queryDate+\"小台散戶空單=\",indiviualPlayer_short)\n",
    "print(queryDate+\"小台散戶多空比=\"+'%.2f%%' %indiviualPlayer_ratio)\n",
    "print(queryDate+\"大台外資多單=\",foreign_investment_long)\n",
    "print(queryDate+\"大戶多空比=\"+'%.2f%%' %major_trader_ratio)"
   ]
  },
  {
   "cell_type": "code",
   "execution_count": null,
   "metadata": {},
   "outputs": [],
   "source": []
  },
  {
   "cell_type": "code",
   "execution_count": null,
   "metadata": {},
   "outputs": [],
   "source": []
  }
 ],
 "metadata": {
  "kernelspec": {
   "display_name": "Python 3",
   "language": "python",
   "name": "python3"
  },
  "language_info": {
   "codemirror_mode": {
    "name": "ipython",
    "version": 3
   },
   "file_extension": ".py",
   "mimetype": "text/x-python",
   "name": "python",
   "nbconvert_exporter": "python",
   "pygments_lexer": "ipython3",
   "version": "3.6.10"
  }
 },
 "nbformat": 4,
 "nbformat_minor": 2
}
